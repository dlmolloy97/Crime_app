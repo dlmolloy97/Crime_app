{
 "cells": [
  {
   "cell_type": "code",
   "execution_count": 2,
   "id": "stuck-mauritius",
   "metadata": {},
   "outputs": [],
   "source": [
    "def sql_to_js_file(query,filepath):\n",
    "    import pandas as pd\n",
    "    import numpy as np\n",
    "    from sqlalchemy import create_engine\n",
    "    alchemyEngine=create_engine('postgresql://desmondmolloy:@127.0.0.1', pool_recycle=3600);\n",
    "    dbConnection=alchemyEngine.connect()\n",
    "    df=pd.read_sql(query, dbConnection)\n",
    "    ajson=df.to_json(orient='records')\n",
    "    myjsobject=\"export var data={};\".format(ajson)\n",
    "    text_file = open(filepath, \"wt\")\n",
    "    n = text_file.write(myjsobject)\n",
    "    text_file.close()\n",
    "#sql_to_js_file('SELECT COUNT(*) AS incidents, CAST(\"YEAR\" as varchar(10)) AS year, \"HOUR\" AS hour, CAST(\"MONTH\" as varchar(10)) AS month, \"DAY_OF_WEEK\" AS weekday FROM crime \\\n",
    "#GROUP BY 2,3,4,5 \\\n",
    "#ORDER BY 2,3,4',\"/Users/desmondmolloy/Downloads//Repositories/React_learning/Crime_app/src/data/crime_data.js\")"
   ]
  },
  {
   "cell_type": "code",
   "execution_count": 5,
   "id": "worst-spread",
   "metadata": {},
   "outputs": [],
   "source": [
    "sql_to_js_file('SELECT \"DAY_OF_WEEK\" AS weekday, \"HOUR\" AS hour, COUNT(*) AS incidents FROM crime GROUP BY 1,2','/Users/desmondmolloy/Downloads//Repositories/React_learning/Crime_app/src/data/table_data.js')"
   ]
  },
  {
   "cell_type": "code",
   "execution_count": null,
   "id": "anticipated-level",
   "metadata": {},
   "outputs": [],
   "source": []
  }
 ],
 "metadata": {
  "kernelspec": {
   "display_name": "Python 3",
   "language": "python",
   "name": "python3"
  },
  "language_info": {
   "codemirror_mode": {
    "name": "ipython",
    "version": 3
   },
   "file_extension": ".py",
   "mimetype": "text/x-python",
   "name": "python",
   "nbconvert_exporter": "python",
   "pygments_lexer": "ipython3",
   "version": "3.8.5"
  }
 },
 "nbformat": 4,
 "nbformat_minor": 5
}
